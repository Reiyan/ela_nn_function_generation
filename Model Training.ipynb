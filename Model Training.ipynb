{
 "cells": [
  {
   "cell_type": "code",
   "execution_count": null,
   "id": "e5fa98d2",
   "metadata": {
    "scrolled": true
   },
   "outputs": [],
   "source": [
    "import numpy as np\n",
    "import pandas as pd\n",
    "\n",
    "import matplotlib.pyplot as plt\n",
    "\n",
    "import torch\n",
    "from torch import nn\n",
    "from torch.optim import Adam, AdamW\n",
    "\n",
    "from pathlib import Path\n",
    "\n",
    "from tqdm import tqdm\n",
    "\n",
    "BASE_PATH = Path(\"data/2d/\")\n",
    "DATA_PATH = Path(BASE_PATH / \"point_cloud_samples\")\n",
    "MODEL_PATH = Path(BASE_PATH / \"models\" / \"simple_tanh\")"
   ]
  },
  {
   "cell_type": "code",
   "execution_count": null,
   "id": "5d72e50c",
   "metadata": {
    "scrolled": true
   },
   "outputs": [],
   "source": [
    "dim = 2\n",
    "files = list(DATA_PATH.glob(f\"*.csv\"))\n",
    "N_EPOCHS = 5000\n",
    "\n",
    "for file in tqdm(files):\n",
    "    fig, ax = plt.subplots(figsize=(10, 4))\n",
    "    for rep in range(1, 5):\n",
    "        data = pd.read_csv(file)\n",
    "        data = data.to_numpy()\n",
    "        model = nn.Sequential(\n",
    "                    nn.Linear(dim, 512),\n",
    "                    nn.Tanh(),\n",
    "                    nn.Linear(512, 1),\n",
    "                    nn.Sigmoid()\n",
    "                    )\n",
    "        optimizer = AdamW(model.parameters(), lr=0.001)\n",
    "\n",
    "        losses = np.zeros(N_EPOCHS)\n",
    "        for epoch in range(N_EPOCHS):\n",
    "            model.train()\n",
    "            optimizer.zero_grad()\n",
    "            output = model.forward(torch.Tensor(data[:, 0:dim])) #use dim for x and y column separation\n",
    "            loss = nn.functional.mse_loss(output, target = torch.Tensor(data[:, dim]).unsqueeze(1)) \n",
    "            loss.backward()\n",
    "            optimizer.step()\n",
    "            losses[epoch] = loss \n",
    "        print(loss)\n",
    "        ax.plot(losses, label=f\"Run {rep}\")\n",
    "        #pd.DataFrame(losses).to_csv(Path(LOSS_PATH / (file.stem + f\"_NNrep_{rep}_loss_NEpochs{N_EPOCHS}.csv\")))\n",
    "        #torch.save(model.state_dict(), Path(MODEL_PATH / (file.stem + f\"_NNrep_{rep}_NEpochs{N_EPOCHS}.pt\")))\n",
    "    ax.set_yscale(\"log\")\n",
    "    ax.legend()\n",
    "    ax.set_title(file.stem)\n",
    "    fig.show()"
   ]
  },
  {
   "cell_type": "code",
   "execution_count": null,
   "id": "99e1571c",
   "metadata": {},
   "outputs": [],
   "source": []
  }
 ],
 "metadata": {
  "kernelspec": {
   "display_name": "Python 3 (ipykernel)",
   "language": "python",
   "name": "python3"
  },
  "language_info": {
   "codemirror_mode": {
    "name": "ipython",
    "version": 3
   },
   "file_extension": ".py",
   "mimetype": "text/x-python",
   "name": "python",
   "nbconvert_exporter": "python",
   "pygments_lexer": "ipython3",
   "version": "3.10.8"
  }
 },
 "nbformat": 4,
 "nbformat_minor": 5
}
