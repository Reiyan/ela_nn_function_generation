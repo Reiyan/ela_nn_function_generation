{
 "cells": [
  {
   "cell_type": "code",
   "execution_count": null,
   "id": "65f23830",
   "metadata": {},
   "outputs": [],
   "source": [
    "import numpy as np\n",
    "import pandas as pd\n",
    "\n",
    "import matplotlib\n",
    "import matplotlib.pyplot as plt\n",
    "\n",
    "from pathlib import Path\n",
    "\n",
    "import torch\n",
    "from torch import nn\n",
    "\n",
    "\n",
    "from mpl_toolkits.mplot3d import Axes3D\n",
    "from matplotlib import cm\n",
    "\n",
    "\n",
    "BASE_PATH = Path(\"data/new_functions/2d\")\n",
    "DATA_PATH = Path(BASE_PATH / \"point_cloud_samples\")\n",
    "MODEL_PATH = Path(BASE_PATH / \"models\" / \"simple_tanh\")\n",
    "\n",
    "\n",
    "matplotlib.rcParams['pdf.fonttype'] = 42\n",
    "matplotlib.rcParams['ps.fonttype'] = 42"
   ]
  },
  {
   "cell_type": "code",
   "execution_count": null,
   "id": "709c5a14",
   "metadata": {},
   "outputs": [],
   "source": [
    "DIM = 2\n",
    "\n",
    "x1 = np.linspace(-5, 5, 300)\n",
    "x2 = np.linspace(-5, 5, 300)\n",
    "\n",
    "X1, X2 = np.meshgrid(x1, x2)\n",
    "X = np.c_[X1.flatten(), X2.flatten()]"
   ]
  },
  {
   "cell_type": "code",
   "execution_count": null,
   "id": "bfe289eb",
   "metadata": {
    "scrolled": false
   },
   "outputs": [],
   "source": [
    "fig, ax = plt.subplots(ncols=5,nrows=1, subplot_kw={\"projection\": \"3d\"},figsize=[7.00697, 1.401394])\n",
    "axes = ax.ravel()\n",
    "for i in range(0,5):    \n",
    "    for rep in range(1):\n",
    "        \n",
    "        anchor_points  = pd.read_csv(DATA_PATH / f\"vertice_sample{i}_d2_rep{rep}_cma_sample.csv\")\n",
    "        anchor_x0  = anchor_points[:][\"x0\"]\n",
    "        anchor_x1  = anchor_points[:][\"x1\"]\n",
    "        anchor_x2  = anchor_points[:][\"y\"]\n",
    "\n",
    "        \n",
    "        model = nn.Sequential(\n",
    "                nn.Linear(DIM, 512),\n",
    "                nn.Tanh(),\n",
    "                nn.Linear(512, 1),\n",
    "                nn.Sigmoid()\n",
    "        )\n",
    "        model.load_state_dict(torch.load(Path(MODEL_PATH / f\"vertice_sample{i}_d2_rep{rep}_cma_sample_NNrep_0_NEPOCHS40000.pt\"), map_location=torch.device('cpu')), strict=True)\n",
    "\n",
    "        \n",
    "        y = model.forward(torch.Tensor(X)).detach().numpy().reshape(X1.shape)\n",
    "\n",
    "\n",
    "\n",
    "        axes[i].scatter(anchor_x0, anchor_x1, anchor_x2,color=\"black\",s=5)\n",
    "        axes[i].plot_surface(X1, X2, y,cmap=cm.viridis)\n",
    "        axes[i].set_xticks([])\n",
    "        axes[i].set_yticks([])\n",
    "        axes[i].set_zticks([])\n",
    "        axes[i].view_init(elev=25)\n",
    "\n",
    "        axes[i].set_title(i + 1, y= -0.09, fontsize=10)\n",
    "fig.tight_layout()\n",
    "#fig.savefig(\"FirsRepsOfNewFuncs3dPlots.png\", dpi=300)"
   ]
  },
  {
   "cell_type": "code",
   "execution_count": null,
   "id": "4cc239bc",
   "metadata": {},
   "outputs": [],
   "source": []
  }
 ],
 "metadata": {
  "kernelspec": {
   "display_name": "Python 3 (ipykernel)",
   "language": "python",
   "name": "python3"
  },
  "language_info": {
   "codemirror_mode": {
    "name": "ipython",
    "version": 3
   },
   "file_extension": ".py",
   "mimetype": "text/x-python",
   "name": "python",
   "nbconvert_exporter": "python",
   "pygments_lexer": "ipython3",
   "version": "3.10.8"
  },
  "vscode": {
   "interpreter": {
    "hash": "31f2aee4e71d21fbe5cf8b01ff0e069b9275f58929596ceb00d14d90e3e16cd6"
   }
  }
 },
 "nbformat": 4,
 "nbformat_minor": 5
}
